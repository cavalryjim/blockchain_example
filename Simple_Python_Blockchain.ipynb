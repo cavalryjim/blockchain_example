{
 "cells": [
  {
   "cell_type": "code",
   "execution_count": 7,
   "id": "575a42a3",
   "metadata": {},
   "outputs": [],
   "source": [
    "import hashlib\n",
    "import json\n",
    "from datetime import datetime"
   ]
  },
  {
   "cell_type": "code",
   "execution_count": 8,
   "id": "53323c20",
   "metadata": {},
   "outputs": [],
   "source": [
    "class Block:\n",
    "    def __init__(self, index, previous_hash, timestamp, data, nonce=None):\n",
    "        self.index = index\n",
    "        self.previous_hash = previous_hash\n",
    "        self.timestamp = timestamp\n",
    "        self.data = data\n",
    "        self.nonce = nonce\n",
    "        self.hash = None\n",
    "\n",
    "    def compute_hash(self):\n",
    "        block_dict = self.__dict__\n",
    "        if 'hash' in block_dict:\n",
    "            del block_dict['hash']\n",
    "        block_string = json.dumps(self.__dict__, sort_keys=True).encode()\n",
    "        return hashlib.sha256(block_string).hexdigest()"
   ]
  },
  {
   "cell_type": "code",
   "execution_count": 9,
   "id": "a9721298",
   "metadata": {},
   "outputs": [],
   "source": [
    "class Blockchain:\n",
    "    difficulty = 2  # Proof of Work difficulty\n",
    "\n",
    "    def __init__(self):\n",
    "        self.unconfirmed_transactions = []\n",
    "        self.chain = []\n",
    "        self.create_genesis_block()\n",
    "\n",
    "    def create_genesis_block(self):\n",
    "        genesis_block = Block(0, None, str(datetime.now()), \"Genesis Block\", 0)\n",
    "        genesis_block.hash = genesis_block.compute_hash()\n",
    "        self.chain.append(genesis_block)\n",
    "\n",
    "    def last_block(self):\n",
    "        return self.chain[-1]\n",
    "\n",
    "    def add_block(self, block, new_hash):\n",
    "        previous_hash = self.last_block().hash\n",
    "\n",
    "        if previous_hash != block.previous_hash:\n",
    "            return False\n",
    "\n",
    "        if not self.is_valid_proof(block, new_hash):\n",
    "            return False\n",
    "\n",
    "        block.hash = new_hash\n",
    "        \n",
    "        self.chain.append(block)\n",
    "        return True\n",
    "    \n",
    "    def proof_of_work(self, block):\n",
    "        block.nonce = 0\n",
    "        computed_hash = block.compute_hash()\n",
    "        while not computed_hash.startswith('0' * Blockchain.difficulty):\n",
    "            block.nonce += 1\n",
    "            computed_hash = block.compute_hash()\n",
    "        \n",
    "        return computed_hash\n",
    "\n",
    "    def add_new_transaction(self, transaction):\n",
    "        self.unconfirmed_transactions.append(transaction)\n",
    "\n",
    "    def mine(self):\n",
    "        if not self.unconfirmed_transactions:\n",
    "            return False\n",
    "\n",
    "        last_block = self.last_block()\n",
    "        new_block = Block(index=last_block.index + 1,\n",
    "                          previous_hash=last_block.hash,\n",
    "                          timestamp=str(datetime.now()),\n",
    "                          data=self.unconfirmed_transactions)\n",
    "\n",
    "        proof = self.proof_of_work(new_block)\n",
    "        self.add_block(new_block, proof)\n",
    "        self.unconfirmed_transactions = []\n",
    "        return new_block.index\n",
    "    \n",
    "    def is_valid_proof(self, block, block_hash):\n",
    "        return (block_hash.startswith('0' * Blockchain.difficulty) and\n",
    "                block_hash == block.compute_hash())\n",
    "\n",
    "    def check_chain_validity(self):\n",
    "        result = True\n",
    "        previous_hash = None\n",
    "\n",
    "        for block in self.chain:\n",
    "            if block.index == 0:\n",
    "                previous_hash = block.hash\n",
    "                continue \n",
    "                \n",
    "            block_hash = block.hash\n",
    "\n",
    "            if not self.is_valid_proof(block, block_hash) or previous_hash != block.previous_hash:\n",
    "                result = False\n",
    "                break\n",
    "                \n",
    "            previous_hash = block_hash\n",
    "\n",
    "        return result\n"
   ]
  },
  {
   "cell_type": "code",
   "execution_count": 13,
   "id": "079fbe38",
   "metadata": {},
   "outputs": [
    {
     "data": {
      "text/plain": [
       "2"
      ]
     },
     "execution_count": 13,
     "metadata": {},
     "output_type": "execute_result"
    }
   ],
   "source": [
    "blockchain = Blockchain()\n",
    "blockchain.add_new_transaction(\"James earned 10 LSU_tokens\")\n",
    "blockchain.mine()\n",
    "blockchain.add_new_transaction(\"James pays Mike_the_tiger 5 LSU_tokens\")\n",
    "blockchain.mine()"
   ]
  },
  {
   "cell_type": "code",
   "execution_count": 14,
   "id": "2ad36053",
   "metadata": {},
   "outputs": [
    {
     "name": "stdout",
     "output_type": "stream",
     "text": [
      "Block {'index': 0, 'previous_hash': None, 'timestamp': '2024-08-08 14:34:59.958990', 'data': 'Genesis Block', 'nonce': 0, 'hash': 'ea5ca59ee5ce305d73c929e46f87b8ff3ce6884284f0352091360bef4c617673'}\n",
      "Block {'index': 1, 'previous_hash': 'ea5ca59ee5ce305d73c929e46f87b8ff3ce6884284f0352091360bef4c617673', 'timestamp': '2024-08-08 14:34:59.959075', 'data': ['James earned 10 LSU_tokens'], 'nonce': 685, 'hash': '00deffc551853b93135329f117b063045109977649556b0b3e6837fabade4d00'}\n",
      "Block {'index': 2, 'previous_hash': '00deffc551853b93135329f117b063045109977649556b0b3e6837fabade4d00', 'timestamp': '2024-08-08 14:34:59.964583', 'data': ['James pays Mike_the_tiger 5 LSU_tokens'], 'nonce': 74, 'hash': '008066be505213f2523624625587d8096d7e4f1fe6ede3eb4e0976d1720c9cb6'}\n"
     ]
    }
   ],
   "source": [
    "for block in blockchain.chain:\n",
    "    print(f\"Block {block.__dict__}\")\n"
   ]
  },
  {
   "cell_type": "code",
   "execution_count": 12,
   "id": "0d15386a",
   "metadata": {},
   "outputs": [
    {
     "name": "stdout",
     "output_type": "stream",
     "text": [
      "Blockchain valid? True\n"
     ]
    }
   ],
   "source": [
    "print(\"Blockchain valid?\", blockchain.check_chain_validity())"
   ]
  },
  {
   "cell_type": "code",
   "execution_count": null,
   "id": "1d13a1ef",
   "metadata": {},
   "outputs": [],
   "source": []
  }
 ],
 "metadata": {
  "kernelspec": {
   "display_name": "Python 3 (ipykernel)",
   "language": "python",
   "name": "python3"
  },
  "language_info": {
   "codemirror_mode": {
    "name": "ipython",
    "version": 3
   },
   "file_extension": ".py",
   "mimetype": "text/x-python",
   "name": "python",
   "nbconvert_exporter": "python",
   "pygments_lexer": "ipython3",
   "version": "3.10.9"
  }
 },
 "nbformat": 4,
 "nbformat_minor": 5
}
